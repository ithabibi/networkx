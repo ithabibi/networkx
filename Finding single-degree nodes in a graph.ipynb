{
  "cells": [
    {
      "cell_type": "markdown",
      "metadata": {
        "id": "view-in-github",
        "colab_type": "text"
      },
      "source": [
        "<a href=\"https://colab.research.google.com/github/ithabibi/networkx/blob/main/Finding%20single-degree%20nodes%20in%20a%20graph.ipynb\" target=\"_parent\"><img src=\"https://colab.research.google.com/assets/colab-badge.svg\" alt=\"Open In Colab\"/></a>"
      ]
    },
    {
      "cell_type": "markdown",
      "metadata": {
        "id": "dzNng6vCL9eP"
      },
      "source": [
        "# یک نمونه کد پایتون که تعداد رئوس آویز (رئوس با درجه 1) را در یک گراف را محاسبه میکند."
      ]
    },
    {
      "cell_type": "markdown",
      "source": [
        "## فراخانی کتابخانه نت ورک ایکس برای کار با گراف ها"
      ],
      "metadata": {
        "id": "nXL0TIvmDCXm"
      }
    },
    {
      "cell_type": "code",
      "source": [
        "import networkx as nx"
      ],
      "metadata": {
        "id": "FBzPpea3BbaZ"
      },
      "execution_count": 1,
      "outputs": []
    },
    {
      "cell_type": "markdown",
      "source": [
        "## ساخت تابع برای شمارش رئوس آویز یا رئوس با درجه یک"
      ],
      "metadata": {
        "id": "dG862z7xDgkp"
      }
    },
    {
      "cell_type": "code",
      "source": [
        "def count_leaf_nodes(graph):\n",
        "  leaf_nodes = [node for node in graph.nodes() if graph.degree(node) == 1]\n",
        "  return len(leaf_nodes)"
      ],
      "metadata": {
        "id": "4sc7gpx_BoST"
      },
      "execution_count": 2,
      "outputs": []
    },
    {
      "cell_type": "markdown",
      "source": [
        "## ساخت گراف یک گراف نمونه شامل 4 یال"
      ],
      "metadata": {
        "id": "da3sH3TiDil5"
      }
    },
    {
      "cell_type": "code",
      "source": [
        "G = nx.Graph()\n",
        "G.add_edges_from([(1, 2), (1, 3), (2, 4), (2, 5)])"
      ],
      "metadata": {
        "id": "FIwCfXkNChzE"
      },
      "execution_count": 3,
      "outputs": []
    },
    {
      "cell_type": "markdown",
      "source": [
        "## اندازه گیری تعداد رئوس آویز گراف ساخته شده"
      ],
      "metadata": {
        "id": "I5VaKvW5Dk1l"
      }
    },
    {
      "cell_type": "code",
      "source": [
        "leaf_count = count_leaf_nodes(G)\n",
        "print(f\"Number of leaf nodes (degree 1 nodes) in the graph: {leaf_count}\")"
      ],
      "metadata": {
        "colab": {
          "base_uri": "https://localhost:8080/"
        },
        "id": "q8Z15NZsCpWe",
        "outputId": "14feeb33-e5a5-4243-ba3b-4ecc0c2df956"
      },
      "execution_count": 4,
      "outputs": [
        {
          "output_type": "stream",
          "name": "stdout",
          "text": [
            "Number of leaf nodes (degree 1 nodes) in the graph: 3\n"
          ]
        }
      ]
    }
  ],
  "metadata": {
    "colab": {
      "name": "colab-tutorial.ipynb",
      "provenance": [],
      "include_colab_link": true
    },
    "kernelspec": {
      "display_name": "Python 3",
      "language": "python",
      "name": "python3"
    },
    "language_info": {
      "codemirror_mode": {
        "name": "ipython",
        "version": 3
      },
      "file_extension": ".py",
      "mimetype": "text/x-python",
      "name": "python",
      "nbconvert_exporter": "python",
      "pygments_lexer": "ipython3",
      "version": "3.7.6"
    }
  },
  "nbformat": 4,
  "nbformat_minor": 0
}